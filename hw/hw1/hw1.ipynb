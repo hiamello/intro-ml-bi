{
  "cells": [
    {
      "cell_type": "markdown",
      "metadata": {
        "id": "vBhasKEakQdQ"
      },
      "source": [
        "## Введение в машинное обучение"
      ]
    },
    {
      "cell_type": "markdown",
      "metadata": {
        "id": "1_8-HCJ1kQdU"
      },
      "source": [
        "### Домашнее задание №1"
      ]
    },
    {
      "cell_type": "markdown",
      "metadata": {
        "id": "pR6Jozm8kQdV"
      },
      "source": [
        "Задание выполнил(а): _(впишите свои фамилию и имя)_"
      ]
    },
    {
      "cell_type": "markdown",
      "metadata": {
        "id": "zbXMz0rFkQdW"
      },
      "source": [
        "### О задании"
      ]
    },
    {
      "cell_type": "markdown",
      "metadata": {
        "id": "8Kc0kZRmkQdW"
      },
      "source": [
        "В данном домашнем задании вы попрактикуетесь в работе с библиотеками numpy, pandas и matplotlib."
      ]
    },
    {
      "cell_type": "markdown",
      "source": [
        "### Оценивание"
      ],
      "metadata": {
        "id": "knTxviqkuviP"
      }
    },
    {
      "cell_type": "markdown",
      "source": [
        "Каждый пункт весит 0.4 балла. Для успешного выполнения домашнего задания на 10 вам достаточно выполнить 24 задачи из 26."
      ],
      "metadata": {
        "id": "qOPAGVSJu0CL"
      }
    },
    {
      "cell_type": "markdown",
      "metadata": {
        "id": "NC4MRIJdkQda"
      },
      "source": [
        "## Часть 1. Numpy"
      ]
    },
    {
      "cell_type": "code",
      "execution_count": null,
      "metadata": {
        "collapsed": true,
        "id": "8FGzaKpykQda"
      },
      "outputs": [],
      "source": [
        "import numpy as np"
      ]
    },
    {
      "cell_type": "markdown",
      "metadata": {
        "id": "klARQmr2kQdb"
      },
      "source": [
        "Во всех задачах необходимо написать код решения внутри функции и проверить его работу, вызвав функцию для данных из условия.\n",
        "\n",
        "При решении задач запрещается использовать циклы (`for`, `while`) и оператор `if`.\n",
        "\n",
        "Везде, где встречаются массивы или матрицы, подразумевается, что это `numpy.array`. "
      ]
    },
    {
      "cell_type": "markdown",
      "metadata": {
        "id": "xsOrrBankQdc"
      },
      "source": [
        "### 1"
      ]
    },
    {
      "cell_type": "markdown",
      "metadata": {
        "id": "M2PPaRuZkQdc"
      },
      "source": [
        "Напишите функцию, возвращающую округленную взвешенную сумму оценок по данным оценкам и весам. Можете посчитать свою оценку за курс :) В нашем случае вес экзамена равен 0.3, вес домашек - 0.42, вес контрольной - 0.14, вес самостоятельных - 0.14. Например, если за экзамен у вас 7, за домашки 10, за контрольную 8, а за самостоятельные 6, то вы получите отличную оценку 8!"
      ]
    },
    {
      "cell_type": "code",
      "execution_count": null,
      "metadata": {
        "collapsed": true,
        "id": "R6Dm8rM9kQdc"
      },
      "outputs": [],
      "source": [
        "def result_mark(weights, marks):\n",
        "    # your code here"
      ]
    },
    {
      "cell_type": "code",
      "execution_count": null,
      "metadata": {
        "collapsed": true,
        "id": "TNMRTHMokQdc"
      },
      "outputs": [],
      "source": [
        "weights = np.array([0.3, 0.42, 0.14, 0.14])\n",
        "marks = np.array([7, 10, 8, 6])\n",
        "result_mark = np.dot(weights, marks)"
      ]
    },
    {
      "cell_type": "markdown",
      "metadata": {
        "id": "P6Mz_2-ZkQdd"
      },
      "source": [
        "### 2"
      ]
    },
    {
      "cell_type": "markdown",
      "metadata": {
        "id": "iezrfWS1kQdd"
      },
      "source": [
        "Напишите функцию, меняющую все каждое третье (начиная с 0) значение массива целых чисел на заданное число. Например, если на вход поступает массив `array([3, 5, 1, 0, -3, 22, 213436])` и число `-111`, то на выходе должен получиться массив `array([-111, 5, 1, -111, -3, 22, -111])`."
      ]
    },
    {
      "cell_type": "code",
      "execution_count": null,
      "metadata": {
        "collapsed": true,
        "id": "lkplEKUGkQdd"
      },
      "outputs": [],
      "source": [
        "def change_array(array, number):\n",
        "    # your code here"
      ]
    },
    {
      "cell_type": "code",
      "execution_count": null,
      "metadata": {
        "collapsed": true,
        "id": "6vTCZpdhkQdd"
      },
      "outputs": [],
      "source": [
        "array = np.array([3, 5, 1, 0, -3, 22, 213436])\n",
        "number = -111\n",
        "change_array(array, number)"
      ]
    },
    {
      "cell_type": "markdown",
      "metadata": {
        "id": "_Cdqt2WLkQde"
      },
      "source": [
        "### 3"
      ]
    },
    {
      "cell_type": "markdown",
      "metadata": {
        "id": "9jwgpwzqkQde"
      },
      "source": [
        "Напишите функцию, выдающую индексы «близких» элементов заданных массивов, а именно тех пар элементов, чей модуль разницы не превосходит заданного значения. Например, если на вход поступают массив `array([1.5, 0.5, 2, -4.1, -3, 6, -1])`, массив `array([1.2, 0.5, 1, -4, 3, 0, -1.2])` и число `0.5`, то на выходе должен получиться массив `array([0, 1, 3, 6])` (_**важно: не `tuple`, а одномерный массив типа `numpy.ndarray` (то есть `.ndim` от него равно 1)!**_)."
      ]
    },
    {
      "cell_type": "code",
      "execution_count": null,
      "metadata": {
        "collapsed": true,
        "id": "dUko0kjokQde"
      },
      "outputs": [],
      "source": [
        "def find_close(array1, array2, precision):\n",
        "    # your code here"
      ]
    },
    {
      "cell_type": "code",
      "execution_count": null,
      "metadata": {
        "collapsed": true,
        "id": "BeTb2ardkQde"
      },
      "outputs": [],
      "source": [
        "array1 = np.array([1.5, 0.5, 2, -4.1, -3, 6, -1])\n",
        "array2 = np.array([1.2, 0.5, 1, -4, 3, 0, -1.2])\n",
        "precision = 0.5\n",
        "find_close(array1, array2, precision)"
      ]
    },
    {
      "cell_type": "markdown",
      "metadata": {
        "id": "8_dost5akQdf"
      },
      "source": [
        "### 4"
      ]
    },
    {
      "cell_type": "markdown",
      "metadata": {
        "id": "dqpIIAhJkQdf"
      },
      "source": [
        "Напишите функцию, которая составляет блочную матрицу из четырех блоков, где каждый блок - это заданная матрица. Например, если на вход поступает матрица\n",
        "$$\n",
        "\\begin{pmatrix}\n",
        "0 & 1 & 2\\\\\n",
        "3 & 4 & 5\\\\\n",
        "\\end{pmatrix},\n",
        "$$\n",
        "то ответом будет матрица\n",
        "$$\n",
        "\\begin{pmatrix}\n",
        "0 & 1 & 2 & 0 & 1 & 2\\\\\n",
        "3 & 4 & 5 & 3 & 4 & 5\\\\\n",
        "0 & 1 & 2 & 0 & 1 & 2\\\\\n",
        "3 & 4 & 5 & 3 & 4 & 5\\\\\n",
        "\\end{pmatrix}\n",
        "$$"
      ]
    },
    {
      "cell_type": "code",
      "execution_count": null,
      "metadata": {
        "collapsed": true,
        "id": "n-w538V_kQdf"
      },
      "outputs": [],
      "source": [
        "def block_matrix(block):\n",
        "    # your code here"
      ]
    },
    {
      "cell_type": "code",
      "execution_count": null,
      "metadata": {
        "collapsed": true,
        "id": "uqvgLTHikQdf"
      },
      "outputs": [],
      "source": [
        "block = np.array([[0, 1, 2], [3, 4, 5]])\n",
        "block_matrix(block)"
      ]
    },
    {
      "cell_type": "markdown",
      "metadata": {
        "id": "9zMqihgrkQdg"
      },
      "source": [
        "### 5"
      ]
    },
    {
      "cell_type": "markdown",
      "metadata": {
        "id": "x8-hA9t5kQdg"
      },
      "source": [
        "Напишите функцию, вычисляющую произведение всех ненулевых диагональных элементов на диагонали данной квадратной матрицы. Например, если на вход поступает матрица\n",
        "$$\n",
        "\\begin{pmatrix}\n",
        "0 & 1 & 2\\\\\n",
        "3 & 4 & 5\\\\\n",
        "6 & 7 & 8\\\\\n",
        "\\end{pmatrix},\n",
        "$$\n",
        "то ответом будет 32."
      ]
    },
    {
      "cell_type": "code",
      "execution_count": null,
      "metadata": {
        "collapsed": true,
        "id": "qMAksKhnkQdg"
      },
      "outputs": [],
      "source": [
        "def diag_prod(matrix):\n",
        "    # your code here"
      ]
    },
    {
      "cell_type": "code",
      "execution_count": null,
      "metadata": {
        "collapsed": true,
        "id": "Lm0M9rAUkQdh"
      },
      "outputs": [],
      "source": [
        "matrix = np.array([[0, 1, 2], [3, 4, 5], [6, 7, 8]])\n",
        "diag_prod(matrix)"
      ]
    },
    {
      "cell_type": "markdown",
      "metadata": {
        "id": "HYFoXZx3kQdh"
      },
      "source": [
        "### 6"
      ]
    },
    {
      "cell_type": "markdown",
      "metadata": {
        "id": "g67_4RSwkQdh"
      },
      "source": [
        "Для улучшения качества работы некоторых алгоритмов машинного обучения может быть полезно использовать [нормализацию данных](https://vk.cc/8xmfQk), чтобы привести признаки в выборке к одному масштабу — а именно, из каждого столбца вычесть среднее его значений и поделить на их стандартное отклонение. Напишите функцию, нормализующую входящую матрицу (по столбцам). Например, если на вход подается матрица \n",
        "$$\n",
        "\\begin{pmatrix}\n",
        "1 & 4 & 4200\\\\\n",
        "0 & 10 & 5000\\\\\n",
        "1 & 2 & 1000\\\\\n",
        "\\end{pmatrix},\n",
        "$$\n",
        "то результатом с точностью до сотых будет матрица\n",
        "$$\n",
        "\\begin{pmatrix}\n",
        "0.71 & -0.39 & 0.46\\\\\n",
        "-1.41 & 1.37 & 0.93\\\\\n",
        "0.71 & -0.98 & -1.39\\\\\n",
        "\\end{pmatrix}\n",
        "$$\n",
        "Учтите, что в вашей матрице не должно получаться никаких nan. Подумайте, в каком случае они могут возникнуть и как обойти эту проблему.\n",
        "\n",
        "_Подсказка. Казалось бы, при чем тут деление на ноль._"
      ]
    },
    {
      "cell_type": "code",
      "execution_count": null,
      "metadata": {
        "collapsed": true,
        "id": "eeNjGefjkQdh"
      },
      "outputs": [],
      "source": [
        "def normalize(matrix):\n",
        "    # your code here"
      ]
    },
    {
      "cell_type": "code",
      "execution_count": null,
      "metadata": {
        "collapsed": true,
        "id": "BYnl7_CMkQdh"
      },
      "outputs": [],
      "source": [
        "matrix = np.array([[1, 4, 4200], [0, 10, 5000], [1, 2, 1000]])\n",
        "normalize(matrix)"
      ]
    },
    {
      "cell_type": "markdown",
      "metadata": {
        "id": "l7T947nfkQdi"
      },
      "source": [
        "### 7"
      ]
    },
    {
      "cell_type": "markdown",
      "metadata": {
        "id": "y5Xa1eMekQdi"
      },
      "source": [
        "Напишите функцию, вычисляющую какую-нибудь первообразную данного полинома (в качестве константы возьмите ваше любимое число). Например, если на вход поступает массив коэффициентов `array([4, 6, 0, 1])`, что соответствует полиному $4x^3 + 6x^2 + 1$, на выходе получается массив коэффициентов `array([1, 2, 0, 1, -2])`, соответствующий полиному $x^4 + 2x^3 + x - 2$."
      ]
    },
    {
      "cell_type": "code",
      "execution_count": null,
      "metadata": {
        "collapsed": true,
        "id": "6qn56gArkQdi"
      },
      "outputs": [],
      "source": [
        "def antiderivative(coefs):\n",
        "    # your code here"
      ]
    },
    {
      "cell_type": "code",
      "execution_count": null,
      "metadata": {
        "collapsed": true,
        "id": "prVVQ6_TkQdi"
      },
      "outputs": [],
      "source": [
        "coefs = np.array([4, 6, 0, 1])\n",
        "antiderivative(coefs)"
      ]
    },
    {
      "cell_type": "markdown",
      "metadata": {
        "id": "GOiRm3nSkQdi"
      },
      "source": [
        "### 8"
      ]
    },
    {
      "cell_type": "markdown",
      "metadata": {
        "id": "sWtpjkk2kQdi"
      },
      "source": [
        "Напишите функцию, делающую данную [треугольную матрицу](https://ru.wikipedia.org/wiki/%D0%A2%D1%80%D0%B5%D1%83%D0%B3%D0%BE%D0%BB%D1%8C%D0%BD%D0%B0%D1%8F_%D0%BC%D0%B0%D1%82%D1%80%D0%B8%D1%86%D0%B0) симметричной. Например, если на вход поступает матрица\n",
        "$$\n",
        "\\begin{pmatrix}\n",
        "1 & 2 & 3 & 4\\\\\n",
        "0 & 5 & 6 & 7\\\\\n",
        "0 & 0 & 8 & 9\\\\\n",
        "0 & 0 & 0 & 10\\\\\n",
        "\\end{pmatrix},\n",
        "$$\n",
        "то на выходе должна быть матрица\n",
        "$$\n",
        "\\begin{pmatrix}\n",
        "1 & 2 & 3 & 4\\\\\n",
        "2 & 5 & 6 & 7\\\\\n",
        "3 & 6 & 8 & 9\\\\\n",
        "4 & 7 & 9 & 10\\\\\n",
        "\\end{pmatrix}.\n",
        "$$"
      ]
    },
    {
      "cell_type": "code",
      "execution_count": null,
      "metadata": {
        "collapsed": true,
        "id": "o2-aMxeekQdj"
      },
      "outputs": [],
      "source": [
        "def make_symmetric(matrix):\n",
        "    # your code here"
      ]
    },
    {
      "cell_type": "code",
      "execution_count": null,
      "metadata": {
        "collapsed": true,
        "id": "SDoxeZOKkQdj"
      },
      "outputs": [],
      "source": [
        "matrix = np.array([[1, 2, 3, 4], [0, 5, 6, 7], [0, 0, 8, 9], [0, 0, 0, 10]])\n",
        "make_symmetric(matrix)"
      ]
    },
    {
      "cell_type": "markdown",
      "metadata": {
        "id": "ApYddd_vkQdj"
      },
      "source": [
        "### 9"
      ]
    },
    {
      "cell_type": "markdown",
      "metadata": {
        "id": "dzjUdJ82kQdj"
      },
      "source": [
        "Напишите функцию, создающую прямоугольную матрицу из m одинаковых строк, заполненных последовательными натуральными числами от a до b включительно в возрастающем порядке. Например, если m = 5, a = 3, b = 10, то на выходе будет матрица\n",
        "$$\n",
        "\\begin{pmatrix}\n",
        "3 & 4 & 5 & 6 & 7 & 8 & 9 & 10\\\\\n",
        "3 & 4 & 5 & 6 & 7 & 8 & 9 & 10\\\\\n",
        "3 & 4 & 5 & 6 & 7 & 8 & 9 & 10\\\\\n",
        "3 & 4 & 5 & 6 & 7 & 8 & 9 & 10\\\\\n",
        "3 & 4 & 5 & 6 & 7 & 8 & 9 & 10\\\\\n",
        "\\end{pmatrix}\n",
        "$$"
      ]
    },
    {
      "cell_type": "code",
      "execution_count": null,
      "metadata": {
        "collapsed": true,
        "id": "pIeN7U0DkQdj"
      },
      "outputs": [],
      "source": [
        "def construct_matrix(m, a, b):\n",
        "    # your code here"
      ]
    },
    {
      "cell_type": "code",
      "execution_count": null,
      "metadata": {
        "collapsed": true,
        "id": "AHipMWuOkQdj"
      },
      "outputs": [],
      "source": [
        "m = 5\n",
        "a = 3\n",
        "b = 10\n",
        "construct_matrix(m, a, b)"
      ]
    },
    {
      "cell_type": "markdown",
      "metadata": {
        "id": "TTwBvPA-kQdj"
      },
      "source": [
        "### 10"
      ]
    },
    {
      "cell_type": "markdown",
      "metadata": {
        "id": "4NiX6zSfkQdk"
      },
      "source": [
        "Напишите функцию, вычисляющую [косинусную близость](https://en.wikipedia.org/wiki/Cosine_similarity) двух векторов. Например, если на вход поступают вектора `array([-2, 1, 0, -5, 4, 3, -3])` и `array([0, 2, -2, 10, 6, 0, 0])`, ответом будет -0.25."
      ]
    },
    {
      "cell_type": "code",
      "execution_count": null,
      "metadata": {
        "collapsed": true,
        "id": "GwGdM_KkkQdk"
      },
      "outputs": [],
      "source": [
        "def cosine_similarity(vec1, vec2):\n",
        "    # your code here"
      ]
    },
    {
      "cell_type": "code",
      "execution_count": null,
      "metadata": {
        "collapsed": true,
        "id": "e8l3OxGUkQdk"
      },
      "outputs": [],
      "source": [
        "vec1 = np.array([-2, 1, 0, -5, 4, 3, -3])\n",
        "vec2 = np.array([0, 2, -2, 10, 6, 0, 0])\n",
        "cosine_similarity(vec1, vec2)"
      ]
    },
    {
      "cell_type": "markdown",
      "metadata": {
        "id": "nKlKTnikkQdk"
      },
      "source": [
        "## Часть 2. Pandas и Matplotlib"
      ]
    },
    {
      "cell_type": "code",
      "execution_count": null,
      "metadata": {
        "collapsed": true,
        "id": "nOVSVUy6kQdk"
      },
      "outputs": [],
      "source": [
        "import matplotlib.pyplot as plt\n",
        "import pandas as pd\n",
        "\n",
        "%matplotlib inline"
      ]
    },
    {
      "cell_type": "markdown",
      "metadata": {
        "id": "SFq7t5VEkQdk"
      },
      "source": [
        "В этой части домашнего задания вы поработаете с данными о пассажирах с затонувшего «Титаника». Описание данных:\n",
        "\n",
        "https://www.kaggle.com/c/titanic/data\n",
        "\n",
        "Каждый построенный график необходимо красиво оформить - для этого требуется как минимум указать его название, а также отметить, что изображено по каждой из осей.\n",
        "\n",
        "*Функции, которые могут пригодиться при оформлении графиков: `.show()`, `.title()`, `.xlabel()`, `.ylabel()`*"
      ]
    },
    {
      "cell_type": "markdown",
      "metadata": {
        "id": "7g7Sm45vkQdk"
      },
      "source": [
        "### 11"
      ]
    },
    {
      "cell_type": "markdown",
      "metadata": {
        "id": "kp5Z5_nHkQdl"
      },
      "source": [
        "Откройте в ноутбуке файл с данными (\"train.csv\"). Какой размер имеет таблица? Выведите первые 5, последние 5 строк и размер."
      ]
    },
    {
      "cell_type": "code",
      "execution_count": null,
      "metadata": {
        "collapsed": true,
        "id": "P8J3TWC2kQdl"
      },
      "outputs": [],
      "source": [
        "# your code here"
      ]
    },
    {
      "cell_type": "markdown",
      "metadata": {
        "id": "jq_MA8ALkQdl"
      },
      "source": [
        "### 12"
      ]
    },
    {
      "cell_type": "markdown",
      "metadata": {
        "id": "Mce1YNHekQdl"
      },
      "source": [
        "Для каждого из признаков укажите его тип (вещественный, категориальный, порядковый, бинарный, другое) Объясните, почему вы так считаете. Придумайте три задачи, которые можно было бы решать для данного датасета — задачу регрессии, задачу классификации и задачу кластеризации."
      ]
    },
    {
      "cell_type": "code",
      "source": [
        "# your code"
      ],
      "metadata": {
        "id": "gPM00Be0k2zm"
      },
      "execution_count": null,
      "outputs": []
    },
    {
      "cell_type": "markdown",
      "metadata": {
        "id": "mLsF-mGNkQdm"
      },
      "source": [
        "### 13"
      ]
    },
    {
      "cell_type": "markdown",
      "metadata": {
        "id": "L6FD6v6SkQdn"
      },
      "source": [
        "Есть ли в данных пропуски? Если да, то в каких столбцах? Сколько пропусков в каждом из них?"
      ]
    },
    {
      "cell_type": "code",
      "execution_count": null,
      "metadata": {
        "collapsed": true,
        "id": "ZxK78WHIkQdn"
      },
      "outputs": [],
      "source": [
        "# your code here"
      ]
    },
    {
      "cell_type": "markdown",
      "metadata": {
        "id": "wM1QyIc9kQdn"
      },
      "source": [
        "### 14"
      ]
    },
    {
      "cell_type": "markdown",
      "metadata": {
        "id": "3PmXh7bUkQdn"
      },
      "source": [
        "Подумайте, как стоит заполнить пропуски в каждом столбце в зависимости от его типа, и сделайте это. Проверьте, что пропусков нигде не осталось."
      ]
    },
    {
      "cell_type": "code",
      "execution_count": null,
      "metadata": {
        "collapsed": true,
        "id": "A8tqxy0WkQdn"
      },
      "outputs": [],
      "source": [
        "# your code here"
      ]
    },
    {
      "cell_type": "markdown",
      "metadata": {
        "id": "msl74Lg0kQdl"
      },
      "source": [
        "### 15"
      ]
    },
    {
      "cell_type": "markdown",
      "metadata": {
        "id": "J6I6z1XCkQdl"
      },
      "source": [
        "Какова доля выживших после крушения пассажиров? Какова доля мужчин и женщин среди выживших?"
      ]
    },
    {
      "cell_type": "code",
      "execution_count": null,
      "metadata": {
        "collapsed": true,
        "id": "MbEkQU6FkQdl"
      },
      "outputs": [],
      "source": [
        "# your code here"
      ]
    },
    {
      "cell_type": "markdown",
      "metadata": {
        "id": "J-z4omGjkQdl"
      },
      "source": [
        "### 16"
      ]
    },
    {
      "cell_type": "markdown",
      "metadata": {
        "id": "VXXJjtA2kQdl"
      },
      "source": [
        "Сколько пассажиров ехало в каждом классе? Кого было больше в самом многолюдном классе — мужчин или женщин?"
      ]
    },
    {
      "cell_type": "code",
      "execution_count": null,
      "metadata": {
        "collapsed": true,
        "id": "LVxR-_SWkQdm"
      },
      "outputs": [],
      "source": [
        "# your code here"
      ]
    },
    {
      "cell_type": "markdown",
      "metadata": {
        "id": "vFgb0XUXkQdm"
      },
      "source": [
        "### 17"
      ]
    },
    {
      "cell_type": "markdown",
      "metadata": {
        "id": "2vBKRhfmkQdm"
      },
      "source": [
        "Выведите минимальную, среднюю и максимальную сумму, которую заплатили пассажиры за проезд. Проделайте то же самое только для тех пассажиров, которые сели на корабль в Саутгемптоне. Выведите гистограммы, показывающие распределения стоимостей билетов в зависимости от места посадки."
      ]
    },
    {
      "cell_type": "code",
      "execution_count": null,
      "metadata": {
        "collapsed": true,
        "id": "mNqccEQ6kQdm"
      },
      "outputs": [],
      "source": [
        "# your code here"
      ]
    },
    {
      "cell_type": "markdown",
      "metadata": {
        "id": "HwEq28TAkQdm"
      },
      "source": [
        "### 18"
      ]
    },
    {
      "cell_type": "markdown",
      "metadata": {
        "id": "qcfvmzEIkQdm"
      },
      "source": [
        "Все ли признаки несут в себе полезную информацию? Почему? Избавьтесь от ненужных столбцов."
      ]
    },
    {
      "cell_type": "code",
      "execution_count": null,
      "metadata": {
        "collapsed": true,
        "id": "CR5hTjO8kQdm"
      },
      "outputs": [],
      "source": [
        "# your code here"
      ]
    },
    {
      "cell_type": "markdown",
      "metadata": {
        "id": "tXpxFu_2kQdn"
      },
      "source": [
        "### 19"
      ]
    },
    {
      "cell_type": "markdown",
      "metadata": {
        "id": "3d8kd-9ykQdn"
      },
      "source": [
        "Посчитайте, насколько сильно коррелируют друг с другом цена за билет и возраст пассажиров. Также проверьте наличие этой зависимости визуально (в этом вам поможет построение [диаграммы рассеяния](https://ru.wikipedia.org/wiki/%D0%94%D0%B8%D0%B0%D0%B3%D1%80%D0%B0%D0%BC%D0%BC%D0%B0_%D1%80%D0%B0%D1%81%D1%81%D0%B5%D1%8F%D0%BD%D0%B8%D1%8F)). Разметьте на этой диаграме выживших пассажиров зеленым цветом, а не выживших - красным."
      ]
    },
    {
      "cell_type": "code",
      "execution_count": null,
      "metadata": {
        "collapsed": true,
        "id": "YKa-uZ4OkQdn"
      },
      "outputs": [],
      "source": [
        "# your code here"
      ]
    },
    {
      "cell_type": "markdown",
      "metadata": {
        "id": "g-DChIQikQdn"
      },
      "source": [
        "### 20"
      ]
    },
    {
      "cell_type": "markdown",
      "metadata": {
        "id": "gx3f6lWwkQdo"
      },
      "source": [
        "Правда ли, что чаще выживали пассажиры с более дорогими билетами? А есть ли зависимость выживаемости от класса?"
      ]
    },
    {
      "cell_type": "code",
      "execution_count": null,
      "metadata": {
        "collapsed": true,
        "id": "iUN-jqzgkQdo"
      },
      "outputs": [],
      "source": [
        "# your code here"
      ]
    },
    {
      "cell_type": "markdown",
      "metadata": {
        "id": "QiUdAx63kQdo"
      },
      "source": [
        "### 21"
      ]
    },
    {
      "cell_type": "markdown",
      "metadata": {
        "id": "tARBQxr8kQdo"
      },
      "source": [
        "Создание новых признаков (feature engineering) является одним из основных средств улучшения качества работы алгоритмов машинного обучения на этапе обработки данных. Добавьте в таблицу столбец, который будет показывать, сколько родных плыло вместе с пассажиром на корабле, включая его самого. Затем придумайте свой признак, который может быть полезен для алгоритма (несет в себе какую-то информацию), и добавьте его в таблицу."
      ]
    },
    {
      "cell_type": "code",
      "execution_count": null,
      "metadata": {
        "collapsed": true,
        "id": "r6DzYMHpkQdo"
      },
      "outputs": [],
      "source": [
        "# your code here"
      ]
    },
    {
      "cell_type": "markdown",
      "metadata": {
        "id": "3CjvcH1vkQdp"
      },
      "source": [
        "### 22"
      ]
    },
    {
      "cell_type": "markdown",
      "metadata": {
        "id": "3S-DG5yhkQdp"
      },
      "source": [
        "Придумайте какое-нибудь интересное задание на анализ предлагаемых данных и решите его. Например, какая фамилия была самой популярной на корабле?"
      ]
    },
    {
      "cell_type": "code",
      "execution_count": null,
      "metadata": {
        "collapsed": true,
        "id": "pz_-HHYGkQdp"
      },
      "outputs": [],
      "source": [
        "# your code here"
      ]
    },
    {
      "cell_type": "markdown",
      "metadata": {
        "id": "CqYa1EfakQdp"
      },
      "source": [
        "### 23"
      ]
    },
    {
      "cell_type": "markdown",
      "metadata": {
        "id": "fQvBDhR6kQdp"
      },
      "source": [
        "Постройте гистограммы распределения вещественных признаков. Есть ли в них разница? Чем это может быть плохо с точки зрения машинного обучения? Отнормируйте вещественные признаки 2 любыми методами и посмотрите, как изменилась ситуация."
      ]
    },
    {
      "cell_type": "code",
      "execution_count": null,
      "metadata": {
        "collapsed": true,
        "id": "0GrocBi-kQdp"
      },
      "outputs": [],
      "source": [
        "# your code here"
      ]
    },
    {
      "cell_type": "markdown",
      "source": [
        "### 24"
      ],
      "metadata": {
        "id": "dH_JpB49rAxi"
      }
    },
    {
      "cell_type": "markdown",
      "source": [
        "Постройте столбчатую диаграмму с 2 столбцами (количество выживших и не выживших) в зависимости от количества родителей/детей на борту Титаника (поле parch). Какие выводы можно сделать?"
      ],
      "metadata": {
        "id": "xf70i08LrQcj"
      }
    },
    {
      "cell_type": "code",
      "source": [
        "# your code here"
      ],
      "metadata": {
        "id": "gUBU0jTOrBxB"
      },
      "execution_count": null,
      "outputs": []
    },
    {
      "cell_type": "markdown",
      "source": [
        "### 25"
      ],
      "metadata": {
        "id": "8kUcbszas6lj"
      }
    },
    {
      "cell_type": "markdown",
      "source": [
        "Используя seaborn violinplot постройте распределение по возрасту (Age) выживших и не выживших пассажиров для каждого класса билета (pclass)."
      ],
      "metadata": {
        "id": "MurpTAPms6lj"
      }
    },
    {
      "cell_type": "code",
      "source": [
        "# your code here"
      ],
      "metadata": {
        "id": "k8tjeSTcs6lj"
      },
      "execution_count": null,
      "outputs": []
    },
    {
      "cell_type": "markdown",
      "metadata": {
        "id": "dfdaskG0kQdp"
      },
      "source": [
        "### 26"
      ]
    },
    {
      "cell_type": "markdown",
      "metadata": {
        "id": "d9z4pdkvkQdq"
      },
      "source": [
        "Есть ли в данных категориальные признаки, которые принимают значения строк, а не чисел? Если да, то для многих алгоритмов машинного обучения это может стать серьезным препятствием, поэтому закодируйте категориальные признаки так, чтобы к данным можно было применить любые алгоритмы машинного обучения."
      ]
    },
    {
      "cell_type": "code",
      "execution_count": null,
      "metadata": {
        "collapsed": true,
        "id": "Oc_q0ls7kQdq"
      },
      "outputs": [],
      "source": [
        "# your code here"
      ]
    }
  ],
  "metadata": {
    "kernelspec": {
      "display_name": "Python 3",
      "language": "python",
      "name": "python3"
    },
    "language_info": {
      "codemirror_mode": {
        "name": "ipython",
        "version": 3
      },
      "file_extension": ".py",
      "mimetype": "text/x-python",
      "name": "python",
      "nbconvert_exporter": "python",
      "pygments_lexer": "ipython3",
      "version": "3.6.3"
    },
    "colab": {
      "name": "hw1.ipynb",
      "provenance": [],
      "collapsed_sections": []
    }
  },
  "nbformat": 4,
  "nbformat_minor": 0
}
